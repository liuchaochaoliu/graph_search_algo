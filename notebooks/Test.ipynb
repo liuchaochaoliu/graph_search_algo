{
 "cells": [
  {
   "cell_type": "code",
   "execution_count": 1,
   "id": "0784ee88-cbd4-42a9-a5ad-b4a87cde6a18",
   "metadata": {},
   "outputs": [],
   "source": [
    "import os, sys\n",
    "import numpy as np\n",
    "import pandas as pd"
   ]
  },
  {
   "cell_type": "code",
   "execution_count": 2,
   "id": "f44e39af-26af-44fb-b381-91da2294836e",
   "metadata": {},
   "outputs": [
    {
     "data": {
      "text/plain": [
       "'/chao/graph_theory/graph_search_algo'"
      ]
     },
     "execution_count": 2,
     "metadata": {},
     "output_type": "execute_result"
    }
   ],
   "source": [
    "os.getcwd()"
   ]
  },
  {
   "cell_type": "code",
   "execution_count": 4,
   "id": "5a032223-4985-49ee-89b1-48fbb6d2089f",
   "metadata": {},
   "outputs": [
    {
     "name": "stdout",
     "output_type": "stream",
     "text": [
      "there are 200 vertices in this graph\n"
     ]
    }
   ],
   "source": [
    "filename = \"data/graph_wk2.txt\"\n",
    "file = open(filename, 'r')\n",
    "data = file.readlines()\n",
    "n = 0\n",
    "for line in data:\n",
    "    if line != '\\n':\n",
    "        n += 1\n",
    "print(f'there are {n} vertices in this graph')"
   ]
  },
  {
   "cell_type": "code",
   "execution_count": 22,
   "id": "38ca707c-c380-481c-bb8b-d6348fc989d4",
   "metadata": {},
   "outputs": [],
   "source": [
    "gr = [[] for i in range(n)]\n",
    "for line in data:\n",
    "    if line != '\\n':\n",
    "        vertex = int(line.split()[0])\n",
    "        arcs = []\n",
    "        for arc_string in line.split()[1:]:\n",
    "            arc = tuple([int(item) for item in arc_string.split(',')])\n",
    "            arcs.append(arc)\n",
    "    gr[vertex-1] = arcs"
   ]
  },
  {
   "cell_type": "code",
   "execution_count": 11,
   "id": "f490c675-36eb-4eeb-b4ee-b3318a1e4d45",
   "metadata": {},
   "outputs": [
    {
     "name": "stdout",
     "output_type": "stream",
     "text": [
      "{1, 3, 100} {1, 3, 100}\n"
     ]
    },
    {
     "data": {
      "text/plain": [
       "True"
      ]
     },
     "execution_count": 11,
     "metadata": {},
     "output_type": "execute_result"
    }
   ],
   "source": [
    "X = set([1, 100, 3])\n",
    "Y = set()\n",
    "Y.add(100);Y.add(1); Y.add(3)\n",
    "print(X, Y)\n",
    "X == Y"
   ]
  },
  {
   "cell_type": "code",
   "execution_count": 14,
   "id": "aec304a5-37c6-45a3-8f44-eff444e7b650",
   "metadata": {},
   "outputs": [
    {
     "data": {
      "text/plain": [
       "0"
      ]
     },
     "execution_count": 14,
     "metadata": {},
     "output_type": "execute_result"
    }
   ],
   "source": [
    "import numpy as np\n",
    "xx = [1, 1, 2, 3]\n",
    "np.argmin(xx)"
   ]
  },
  {
   "cell_type": "code",
   "execution_count": 25,
   "id": "0cef8ae6-1b94-45c5-a77b-cdbaa92420dd",
   "metadata": {},
   "outputs": [
    {
     "ename": "SyntaxError",
     "evalue": "invalid syntax (<ipython-input-25-34cafb119bbe>, line 3)",
     "output_type": "error",
     "traceback": [
      "\u001b[0;36m  File \u001b[0;32m\"<ipython-input-25-34cafb119bbe>\"\u001b[0;36m, line \u001b[0;32m3\u001b[0m\n\u001b[0;31m    [1000 for item in xx if item is None else item]\u001b[0m\n\u001b[0m                                            ^\u001b[0m\n\u001b[0;31mSyntaxError\u001b[0m\u001b[0;31m:\u001b[0m invalid syntax\n"
     ]
    }
   ],
   "source": [
    "xx = [None for i in range(5)]\n",
    "xx[2] = 4\n",
    "[1000 for item in xx if item is None else item]"
   ]
  },
  {
   "cell_type": "code",
   "execution_count": 37,
   "id": "4b9351c6-ffaa-4c00-b60d-856b88c637c0",
   "metadata": {},
   "outputs": [],
   "source": [
    "xx = [0]\n",
    "xx.append('asdf')"
   ]
  },
  {
   "cell_type": "code",
   "execution_count": 40,
   "id": "25b70455-8708-49a3-8811-f46cb494b8c8",
   "metadata": {},
   "outputs": [
    {
     "data": {
      "text/plain": [
       "[[], [], [3], [], []]"
      ]
     },
     "execution_count": 40,
     "metadata": {},
     "output_type": "execute_result"
    }
   ],
   "source": [
    "xx = [[] for i in range(5)]\n",
    "xx[2] = xx[1] + [3]\n",
    "xx"
   ]
  },
  {
   "cell_type": "code",
   "execution_count": null,
   "id": "5bbec88c-705e-4db8-9c75-7462a41000c7",
   "metadata": {},
   "outputs": [],
   "source": []
  }
 ],
 "metadata": {
  "kernelspec": {
   "display_name": "Python 3",
   "language": "python",
   "name": "python3"
  },
  "language_info": {
   "codemirror_mode": {
    "name": "ipython",
    "version": 3
   },
   "file_extension": ".py",
   "mimetype": "text/x-python",
   "name": "python",
   "nbconvert_exporter": "python",
   "pygments_lexer": "ipython3",
   "version": "3.6.9"
  }
 },
 "nbformat": 4,
 "nbformat_minor": 5
}
