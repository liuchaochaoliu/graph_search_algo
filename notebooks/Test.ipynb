{
 "cells": [
  {
   "cell_type": "code",
   "execution_count": 1,
   "id": "0784ee88-cbd4-42a9-a5ad-b4a87cde6a18",
   "metadata": {},
   "outputs": [],
   "source": [
    "import os, sys\n",
    "import numpy as np\n",
    "import pandas as pd\n",
    "import heapq\n",
    "sys.path.append('..')\n",
    "from src.graph_search import median_maintenence"
   ]
  },
  {
   "cell_type": "code",
   "execution_count": 2,
   "id": "f44e39af-26af-44fb-b381-91da2294836e",
   "metadata": {},
   "outputs": [
    {
     "data": {
      "text/plain": [
       "'/chao/graph_theory/graph_search_algo/notebooks'"
      ]
     },
     "execution_count": 2,
     "metadata": {},
     "output_type": "execute_result"
    }
   ],
   "source": [
    "os.getcwd()"
   ]
  },
  {
   "cell_type": "code",
   "execution_count": 3,
   "id": "ec990e5f-6672-48f3-a100-836f4510141e",
   "metadata": {},
   "outputs": [
    {
     "name": "stdout",
     "output_type": "stream",
     "text": [
      "[6331, 2793, 1640, 9290, 225, 625, 6195, 2303, 5685, 1354]\n",
      "[225, 1354, 625, 2303, 2793, 1640, 6195, 9290, 5685, 6331]\n"
     ]
    }
   ],
   "source": [
    "filename = '../data/wk3_test_case_1.txt'\n",
    "file = open(filename, 'r')\n",
    "data = file.readlines()\n",
    "numbers = []\n",
    "\n",
    "for line in data:\n",
    "    if line != '\\n':\n",
    "        numbers.append(int(line))\n",
    "print(numbers)\n",
    "heapq.heapify(numbers)\n",
    "print(numbers)"
   ]
  },
  {
   "cell_type": "code",
   "execution_count": 6,
   "id": "8ec63b8e-251a-4c90-b7ad-b32fa4acc024",
   "metadata": {},
   "outputs": [
    {
     "data": {
      "text/plain": [
       "225"
      ]
     },
     "execution_count": 6,
     "metadata": {},
     "output_type": "execute_result"
    }
   ],
   "source": [
    "numbers[0]"
   ]
  },
  {
   "cell_type": "code",
   "execution_count": 5,
   "id": "f164b516-c366-4240-a841-ff19e5cc6b45",
   "metadata": {},
   "outputs": [
    {
     "name": "stdout",
     "output_type": "stream",
     "text": [
      "lower heap has 1 elements\n",
      "upper heap has 1 elements\n"
     ]
    }
   ],
   "source": [
    "lower_heap = [min(numbers[0], numbers[1])]\n",
    "upper_heap = [max(numbers[0], numbers[1])]\n",
    "heapq.heapify(lower_heap)\n",
    "heapq.heapify(upper_heap)\n",
    "lower_max = heapq.nlargest(1, lower_heap)\n",
    "upper_min = upper_heap[0]\n",
    "print(f'lower heap has {len(lower_heap)} elements')\n",
    "print(f'upper heap has {len(upper_heap)} elements')\n"
   ]
  },
  {
   "cell_type": "code",
   "execution_count": null,
   "id": "1337340d-d8a6-4c99-9c36-8b1d88ef8a2a",
   "metadata": {},
   "outputs": [],
   "source": [
    "heapq.heappush(numbers, 668)"
   ]
  },
  {
   "cell_type": "code",
   "execution_count": 9,
   "id": "e26667b0-582d-492d-ba26-72033b936132",
   "metadata": {},
   "outputs": [],
   "source": [
    "for i in range(2, -1):\n",
    "    print(i)"
   ]
  },
  {
   "cell_type": "code",
   "execution_count": null,
   "id": "3c01bd1b-ca6e-49a8-a9e4-0ae104b1a86a",
   "metadata": {},
   "outputs": [],
   "source": [
    "xx"
   ]
  },
  {
   "cell_type": "code",
   "execution_count": null,
   "id": "5a032223-4985-49ee-89b1-48fbb6d2089f",
   "metadata": {},
   "outputs": [],
   "source": [
    "filename = \"../data/graph_wk2.txt\"\n",
    "file = open(filename, 'r')\n",
    "data = file.readlines()\n",
    "n = 0\n",
    "for line in data:\n",
    "    if line != '\\n':\n",
    "        n += 1\n",
    "print(f'there are {n} vertices in this graph')"
   ]
  },
  {
   "cell_type": "code",
   "execution_count": null,
   "id": "38ca707c-c380-481c-bb8b-d6348fc989d4",
   "metadata": {},
   "outputs": [],
   "source": [
    "gr = [[] for i in range(n)]\n",
    "for line in data:\n",
    "    if line != '\\n':\n",
    "        vertex = int(line.split()[0])\n",
    "        arcs = []\n",
    "        for arc_string in line.split()[1:]:\n",
    "            arc = tuple([int(item) for item in arc_string.split(',')])\n",
    "            arcs.append(arc)\n",
    "    gr[vertex-1] = arcs"
   ]
  },
  {
   "cell_type": "code",
   "execution_count": null,
   "id": "f490c675-36eb-4eeb-b4ee-b3318a1e4d45",
   "metadata": {},
   "outputs": [],
   "source": [
    "X = set([1, 100, 3])\n",
    "Y = set()\n",
    "Y.add(100);Y.add(1); Y.add(3)\n",
    "print(X, Y)\n",
    "X == Y"
   ]
  },
  {
   "cell_type": "code",
   "execution_count": null,
   "id": "aec304a5-37c6-45a3-8f44-eff444e7b650",
   "metadata": {},
   "outputs": [],
   "source": [
    "import numpy as np\n",
    "xx = [1, 1, 2, 3]\n",
    "np.argmin(xx)"
   ]
  },
  {
   "cell_type": "code",
   "execution_count": null,
   "id": "0cef8ae6-1b94-45c5-a77b-cdbaa92420dd",
   "metadata": {},
   "outputs": [],
   "source": [
    "xx = [None for i in range(5)]\n",
    "xx[2] = 4\n",
    "[1000 for item in xx if item is None else item]"
   ]
  },
  {
   "cell_type": "code",
   "execution_count": null,
   "id": "4b9351c6-ffaa-4c00-b60d-856b88c637c0",
   "metadata": {},
   "outputs": [],
   "source": [
    "xx = [0]\n",
    "xx.append('asdf')"
   ]
  },
  {
   "cell_type": "code",
   "execution_count": null,
   "id": "25b70455-8708-49a3-8811-f46cb494b8c8",
   "metadata": {},
   "outputs": [],
   "source": [
    "xx = [[] for i in range(5)]\n",
    "xx[2] = xx[1] + [3]\n",
    "xx"
   ]
  },
  {
   "cell_type": "code",
   "execution_count": 4,
   "id": "5bbec88c-705e-4db8-9c75-7462a41000c7",
   "metadata": {},
   "outputs": [
    {
     "name": "stdout",
     "output_type": "stream",
     "text": [
      "-3\n",
      "-2\n",
      "-1\n",
      "0\n",
      "1\n",
      "2\n",
      "3\n"
     ]
    }
   ],
   "source": [
    "import numpy as np\n",
    "for i in range(-3, 4):\n",
    "    print(i)"
   ]
  },
  {
   "cell_type": "code",
   "execution_count": 6,
   "id": "a27d29ce-20c1-4d30-bd00-764ee28616d5",
   "metadata": {},
   "outputs": [],
   "source": [
    "xx = dict()\n",
    "xx[45] = False\n",
    "xx[32] = False"
   ]
  },
  {
   "cell_type": "code",
   "execution_count": 8,
   "id": "56a6475f-679e-40ac-8620-2a57ad58cf24",
   "metadata": {},
   "outputs": [
    {
     "name": "stdout",
     "output_type": "stream",
     "text": [
      "45\n",
      "32\n"
     ]
    }
   ],
   "source": [
    "for i in xx:\n",
    "    print(i)"
   ]
  },
  {
   "cell_type": "code",
   "execution_count": 10,
   "id": "e587df94-db4d-4f54-8682-347bdb14ec0c",
   "metadata": {},
   "outputs": [
    {
     "data": {
      "text/plain": [
       "False"
      ]
     },
     "execution_count": 10,
     "metadata": {},
     "output_type": "execute_result"
    }
   ],
   "source": [
    "33 in xx"
   ]
  },
  {
   "cell_type": "code",
   "execution_count": 13,
   "id": "0289404c-fc26-4133-a18c-fe166b42581c",
   "metadata": {},
   "outputs": [
    {
     "name": "stdout",
     "output_type": "stream",
     "text": [
      "asdfasd fasdf\n"
     ]
    }
   ],
   "source": [
    "print(f'asdfasd',\n",
    "        'fasdf')"
   ]
  },
  {
   "cell_type": "code",
   "execution_count": null,
   "id": "c32fba7c-fb9e-4fd9-aefe-0c7269c42bdb",
   "metadata": {},
   "outputs": [],
   "source": []
  }
 ],
 "metadata": {
  "kernelspec": {
   "display_name": "Python 3",
   "language": "python",
   "name": "python3"
  },
  "language_info": {
   "codemirror_mode": {
    "name": "ipython",
    "version": 3
   },
   "file_extension": ".py",
   "mimetype": "text/x-python",
   "name": "python",
   "nbconvert_exporter": "python",
   "pygments_lexer": "ipython3",
   "version": "3.6.9"
  }
 },
 "nbformat": 4,
 "nbformat_minor": 5
}
